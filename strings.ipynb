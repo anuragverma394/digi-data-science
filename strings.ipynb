{
 "cells": [
  {
   "cell_type": "code",
   "execution_count": 1,
   "metadata": {},
   "outputs": [],
   "source": [
    "a='this is a string'\n",
    "b=\"this is a string\"\n",
    "c='''lines want do u want to write '''\n",
    "d=b'this is a byte string'\n",
    "e=u'this is a unicode string'\n",
    "\n",
    "\n"
   ]
  },
  {
   "cell_type": "code",
   "execution_count": 2,
   "metadata": {},
   "outputs": [
    {
     "name": "stdout",
     "output_type": "stream",
     "text": [
      "10\n"
     ]
    }
   ],
   "source": [
    "x=10\n",
    "x=str(x)  #converted to string\n",
    "print(x)"
   ]
  },
  {
   "cell_type": "code",
   "execution_count": 1,
   "metadata": {},
   "outputs": [
    {
     "name": "stdout",
     "output_type": "stream",
     "text": [
      "str = digipodium\n",
      "str[0]= d\n",
      "str[2]= g\n",
      "str[-1]= m\n"
     ]
    }
   ],
   "source": [
    "str ='digipodium'\n",
    "print('str =',str)\n",
    "#access first character\n",
    "print('str[0]=' ,str[0])\n",
    "#third character\n",
    "print('str[2]=' ,str[2])\n",
    "#last character\n",
    "print('str[-1]=' ,str[-1])\n",
    "\n",
    "\n"
   ]
  },
  {
   "cell_type": "code",
   "execution_count": 2,
   "metadata": {},
   "outputs": [
    {
     "name": "stdout",
     "output_type": "stream",
     "text": [
      "pod\n"
     ]
    }
   ],
   "source": [
    "#getting a slice\n",
    "\n",
    "s='digipodium'\n",
    "slice =s[4:7]\n",
    "print(slice)"
   ]
  },
  {
   "cell_type": "code",
   "execution_count": 6,
   "metadata": {},
   "outputs": [
    {
     "name": "stdout",
     "output_type": "stream",
     "text": [
      "vijay\n"
     ]
    }
   ],
   "source": [
    "name ='vijay deenanath chauhan'\n",
    "slice=name[:5]\n",
    "print(slice)"
   ]
  },
  {
   "cell_type": "code",
   "execution_count": 10,
   "metadata": {},
   "outputs": [
    {
     "name": "stdout",
     "output_type": "stream",
     "text": [
      "chauhan\n"
     ]
    }
   ],
   "source": [
    "name ='vijay deenanath chauhan'\n",
    "slice=name[-7:]\n",
    "print(slice)"
   ]
  },
  {
   "cell_type": "code",
   "execution_count": 11,
   "metadata": {},
   "outputs": [
    {
     "data": {
      "text/plain": [
       "'vadna aa'"
      ]
     },
     "execution_count": 11,
     "metadata": {},
     "output_type": "execute_result"
    }
   ],
   "source": [
    "name[::3]"
   ]
  },
  {
   "cell_type": "code",
   "execution_count": 12,
   "metadata": {},
   "outputs": [
    {
     "data": {
      "text/plain": [
       "'nahuahc htananeed yajiv'"
      ]
     },
     "execution_count": 12,
     "metadata": {},
     "output_type": "execute_result"
    }
   ],
   "source": [
    "name[::-1]"
   ]
  },
  {
   "cell_type": "code",
   "execution_count": 14,
   "metadata": {},
   "outputs": [
    {
     "name": "stdout",
     "output_type": "stream",
     "text": [
      "invalid input\n"
     ]
    }
   ],
   "source": [
    "x=input('enter a number: ')\n",
    "if x.isnumeric():\n",
    "    x=int(x)\n",
    "    print(x)\n",
    "else:\n",
    "    print('invalid input')    "
   ]
  },
  {
   "cell_type": "code",
   "execution_count": 16,
   "metadata": {},
   "outputs": [
    {
     "name": "stdout",
     "output_type": "stream",
     "text": [
      "Hello abhi\n"
     ]
    }
   ],
   "source": [
    "uname =input('Enter your name: ')\n",
    "if uname.isalpha():\n",
    "    print('Hello',uname)\n",
    "else:\n",
    "    print('Invalid input')\n",
    "    "
   ]
  },
  {
   "cell_type": "code",
   "execution_count": 17,
   "metadata": {},
   "outputs": [
    {
     "name": "stdout",
     "output_type": "stream",
     "text": [
      "not so special\n"
     ]
    }
   ],
   "source": [
    "uname=input('Enter your name:')\n",
    "if not uname.isalnum():\n",
    "    print('must be some special characters')\n",
    "else:\n",
    "    print('not so special')\n",
    "    "
   ]
  },
  {
   "cell_type": "code",
   "execution_count": 18,
   "metadata": {},
   "outputs": [
    {
     "name": "stdout",
     "output_type": "stream",
     "text": [
      "WelcomeMr.Anand\n",
      "WelcomeMrs.Vijay\n",
      "WelcomeMrs.ravi\n",
      "you are not allowesEr.rajessh\n"
     ]
    }
   ],
   "source": [
    "name=['Mr.Anand','Mrs.Vijay','Mrs.ravi','Er.rajessh']\n",
    "for name in name:\n",
    "    if name.startswith(\"Mr.\") or name.startswith('Mrs.'):\n",
    "        print(f'Welcome{name}')\n",
    "    else:\n",
    "        print(f'you are not allowes{name}')    "
   ]
  },
  {
   "cell_type": "code",
   "execution_count": 21,
   "metadata": {},
   "outputs": [
    {
     "name": "stdout",
     "output_type": "stream",
     "text": [
      "journey before destination\n"
     ]
    }
   ],
   "source": [
    "name= 'journey before destination'\n",
    "print(name)\n"
   ]
  },
  {
   "cell_type": "code",
   "execution_count": 22,
   "metadata": {},
   "outputs": [
    {
     "name": "stdout",
     "output_type": "stream",
     "text": [
      "4\n"
     ]
    }
   ],
   "source": [
    "#count function\n",
    "s='this is an example string, this is a simple string'\n",
    "print(s.count('is'))"
   ]
  },
  {
   "cell_type": "code",
   "execution_count": 23,
   "metadata": {},
   "outputs": [
    {
     "name": "stdout",
     "output_type": "stream",
     "text": [
      "13\n"
     ]
    }
   ],
   "source": [
    "#total vowels\n",
    "tv=s.count('a')+s.count('e')+s.count('i')+s.count('o')\n",
    "print(tv)"
   ]
  },
  {
   "cell_type": "code",
   "execution_count": 26,
   "metadata": {},
   "outputs": [
    {
     "name": "stdout",
     "output_type": "stream",
     "text": [
      "11\n",
      "2\n",
      "5\n"
     ]
    }
   ],
   "source": [
    "#find a string\n",
    "print(s.find('example'))\n",
    "print(s.find('is'))\n",
    "\n",
    "print(s.find('is',3))"
   ]
  },
  {
   "cell_type": "code",
   "execution_count": 27,
   "metadata": {},
   "outputs": [
    {
     "data": {
      "text/plain": [
       "'thwas was an example string, thwas was a simple string'"
      ]
     },
     "execution_count": 27,
     "metadata": {},
     "output_type": "execute_result"
    }
   ],
   "source": [
    "s.replace('is','was')"
   ]
  },
  {
   "cell_type": "code",
   "execution_count": 28,
   "metadata": {},
   "outputs": [
    {
     "data": {
      "text/plain": [
       "'this is an example , this is a simple '"
      ]
     },
     "execution_count": 28,
     "metadata": {},
     "output_type": "execute_result"
    }
   ],
   "source": [
    "s.replace('string', '')"
   ]
  },
  {
   "cell_type": "code",
   "execution_count": 30,
   "metadata": {},
   "outputs": [
    {
     "data": {
      "text/plain": [
       "'this was an example string, this was a simple string'"
      ]
     },
     "execution_count": 30,
     "metadata": {},
     "output_type": "execute_result"
    }
   ],
   "source": [
    "s.replace(' is ',' was ')"
   ]
  },
  {
   "cell_type": "code",
   "execution_count": 31,
   "metadata": {},
   "outputs": [
    {
     "data": {
      "text/plain": [
       "['this',\n",
       " 'is',\n",
       " 'an',\n",
       " 'example',\n",
       " 'string,',\n",
       " 'this',\n",
       " 'is',\n",
       " 'a',\n",
       " 'simple',\n",
       " 'string']"
      ]
     },
     "execution_count": 31,
     "metadata": {},
     "output_type": "execute_result"
    }
   ],
   "source": [
    "s.split()\n"
   ]
  },
  {
   "cell_type": "code",
   "execution_count": 34,
   "metadata": {},
   "outputs": [
    {
     "data": {
      "text/plain": [
       "['this is an example string', ' this is a simple string']"
      ]
     },
     "execution_count": 34,
     "metadata": {},
     "output_type": "execute_result"
    }
   ],
   "source": [
    "s.split(',')"
   ]
  },
  {
   "cell_type": "code",
   "execution_count": 36,
   "metadata": {},
   "outputs": [
    {
     "data": {
      "text/plain": [
       "'one ... two ... three'"
      ]
     },
     "execution_count": 36,
     "metadata": {},
     "output_type": "execute_result"
    }
   ],
   "source": [
    "#join list in to string\n",
    "words=['one','two','three']\n",
    "\" ... \".join(words)"
   ]
  },
  {
   "cell_type": "code",
   "execution_count": 38,
   "metadata": {},
   "outputs": [
    {
     "name": "stdout",
     "output_type": "stream",
     "text": [
      "  abhi  \n",
      "abhi\n"
     ]
    }
   ],
   "source": [
    "#remove extra space use data cleaning\n",
    "x='  abhi  '\n",
    "print(x)\n",
    "\n",
    "print(x.strip())"
   ]
  },
  {
   "cell_type": "code",
   "execution_count": null,
   "metadata": {},
   "outputs": [],
   "source": []
  }
 ],
 "metadata": {
  "kernelspec": {
   "display_name": "base",
   "language": "python",
   "name": "python3"
  },
  "language_info": {
   "codemirror_mode": {
    "name": "ipython",
    "version": 3
   },
   "file_extension": ".py",
   "mimetype": "text/x-python",
   "name": "python",
   "nbconvert_exporter": "python",
   "pygments_lexer": "ipython3",
   "version": "3.10.10"
  },
  "orig_nbformat": 4
 },
 "nbformat": 4,
 "nbformat_minor": 2
}
