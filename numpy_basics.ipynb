{
 "cells": [
  {
   "cell_type": "code",
   "execution_count": 1,
   "metadata": {},
   "outputs": [],
   "source": [
    "import numpy as np\n"
   ]
  },
  {
   "cell_type": "code",
   "execution_count": 2,
   "metadata": {},
   "outputs": [
    {
     "name": "stdout",
     "output_type": "stream",
     "text": [
      "[1 2 3]\n",
      "(3,)\n",
      "[[1 2 3]\n",
      " [4 5 6]\n",
      " [7 8 9]]\n"
     ]
    }
   ],
   "source": [
    "a= np.array([1,2,3])\n",
    "print(a)\n",
    "print(a.shape)\n",
    "b= np.array([\n",
    "    [1,2,3],\n",
    "    [4,5,6],\n",
    "    [7,8,9],\n",
    "])\n",
    "print(b)"
   ]
  },
  {
   "cell_type": "code",
   "execution_count": 5,
   "metadata": {},
   "outputs": [
    {
     "name": "stdout",
     "output_type": "stream",
     "text": [
      "[1.  1.2 1.4 1.6 1.8 2.  2.2 2.4 2.6 2.8 3.  3.2 3.4 3.6 3.8 4.  4.2 4.4\n",
      " 4.6 4.8 5.  5.2 5.4 5.6 5.8 6.  6.2 6.4 6.6 6.8 7.  7.2 7.4 7.6 7.8 8.\n",
      " 8.2 8.4 8.6 8.8 9.  9.2 9.4 9.6 9.8]\n",
      "(45,)\n",
      "[ 1.          1.47368421  1.94736842  2.42105263  2.89473684  3.36842105\n",
      "  3.84210526  4.31578947  4.78947368  5.26315789  5.73684211  6.21052632\n",
      "  6.68421053  7.15789474  7.63157895  8.10526316  8.57894737  9.05263158\n",
      "  9.52631579 10.        ]\n"
     ]
    }
   ],
   "source": [
    "c=np.arange(1,10, .2)  #start , end, step\n",
    "print(c)\n",
    "print(c.shape)\n",
    "\n",
    "d=np.linspace(1,10,20)\n",
    "print(d)"
   ]
  },
  {
   "cell_type": "code",
   "execution_count": 6,
   "metadata": {},
   "outputs": [
    {
     "data": {
      "text/plain": [
       "array([1. , 1.2, 1.4, 1.6, 1.8, 2. , 2.2, 2.4, 2.6, 2.8, 3. , 3.2, 3.4,\n",
       "       3.6, 3.8, 4. , 4.2, 4.4, 4.6, 4.8, 5. , 5.2, 5.4, 5.6, 5.8, 6. ,\n",
       "       6.2, 6.4, 6.6, 6.8, 7. , 7.2, 7.4, 7.6, 7.8, 8. , 8.2, 8.4, 8.6,\n",
       "       8.8, 9. , 9.2, 9.4, 9.6, 9.8])"
      ]
     },
     "execution_count": 6,
     "metadata": {},
     "output_type": "execute_result"
    }
   ],
   "source": [
    "c\n"
   ]
  },
  {
   "cell_type": "code",
   "execution_count": 7,
   "metadata": {},
   "outputs": [
    {
     "name": "stdout",
     "output_type": "stream",
     "text": [
      "[[1.  1.2 1.4 1.6 1.8]\n",
      " [2.  2.2 2.4 2.6 2.8]\n",
      " [3.  3.2 3.4 3.6 3.8]\n",
      " [4.  4.2 4.4 4.6 4.8]\n",
      " [5.  5.2 5.4 5.6 5.8]\n",
      " [6.  6.2 6.4 6.6 6.8]\n",
      " [7.  7.2 7.4 7.6 7.8]\n",
      " [8.  8.2 8.4 8.6 8.8]\n",
      " [9.  9.2 9.4 9.6 9.8]]\n"
     ]
    }
   ],
   "source": [
    "print(c.reshape(9,5))"
   ]
  },
  {
   "cell_type": "code",
   "execution_count": 8,
   "metadata": {},
   "outputs": [
    {
     "name": "stdout",
     "output_type": "stream",
     "text": [
      "[[[1.  1.2 1.4 1.6 1.8]\n",
      "  [2.  2.2 2.4 2.6 2.8]\n",
      "  [3.  3.2 3.4 3.6 3.8]]\n",
      "\n",
      " [[4.  4.2 4.4 4.6 4.8]\n",
      "  [5.  5.2 5.4 5.6 5.8]\n",
      "  [6.  6.2 6.4 6.6 6.8]]\n",
      "\n",
      " [[7.  7.2 7.4 7.6 7.8]\n",
      "  [8.  8.2 8.4 8.6 8.8]\n",
      "  [9.  9.2 9.4 9.6 9.8]]]\n"
     ]
    }
   ],
   "source": [
    "print(c.reshape(3,3,5))\n"
   ]
  },
  {
   "cell_type": "code",
   "execution_count": 9,
   "metadata": {},
   "outputs": [
    {
     "data": {
      "text/plain": [
       "array([[775, 155, 964],\n",
       "       [499, 272, 721],\n",
       "       [442, 273, 525]])"
      ]
     },
     "execution_count": 9,
     "metadata": {},
     "output_type": "execute_result"
    }
   ],
   "source": [
    "np.random.randint(1,1000,(3,3))"
   ]
  },
  {
   "attachments": {},
   "cell_type": "markdown",
   "metadata": {},
   "source": [
    "maths in  numpy\n"
   ]
  },
  {
   "cell_type": "code",
   "execution_count": 10,
   "metadata": {},
   "outputs": [],
   "source": [
    "x=np.array([\n",
    "    [1,2,3],\n",
    "    [4,5,6],\n",
    "])\n",
    "y =np.array([\n",
    "    [7,8,9],\n",
    "    [4,5,6],\n",
    "])\n",
    "\n",
    "\n"
   ]
  },
  {
   "cell_type": "code",
   "execution_count": 13,
   "metadata": {},
   "outputs": [
    {
     "name": "stdout",
     "output_type": "stream",
     "text": [
      "[[ 8 10 12]\n",
      " [ 8 10 12]]\n",
      "[[-6 -6 -6]\n",
      " [ 0  0  0]]\n",
      "[[ 7 16 27]\n",
      " [16 25 36]]\n",
      "[[0.14285714 0.25       0.33333333]\n",
      " [1.         1.         1.        ]]\n",
      "[[    1   256 19683]\n",
      " [  256  3125 46656]]\n",
      "[[ 2  4  6]\n",
      " [ 8 10 12]]\n"
     ]
    }
   ],
   "source": [
    "print(x+y)\n",
    "print(x-y)\n",
    "print(x*y)\n",
    "print(x/y)\n",
    "print(x**y)\n",
    "print(x*2)"
   ]
  },
  {
   "cell_type": "code",
   "execution_count": 15,
   "metadata": {},
   "outputs": [
    {
     "name": "stdout",
     "output_type": "stream",
     "text": [
      "[[ 50  32]\n",
      " [122  77]]\n",
      "[[ 50  32]\n",
      " [122  77]]\n",
      "[[ 50  32]\n",
      " [122  77]]\n"
     ]
    }
   ],
   "source": [
    "#matrix multiplication\n",
    "print(x.dot(y.T))\n",
    "print(np.matmul(x,y.T))\n",
    "print(x @ y.T)"
   ]
  },
  {
   "cell_type": "code",
   "execution_count": 19,
   "metadata": {},
   "outputs": [
    {
     "name": "stdout",
     "output_type": "stream",
     "text": [
      "21\n",
      "3.5\n",
      "[5 7 9]\n",
      "[ 6 15]\n",
      "1.707825127659933\n",
      "1\n",
      "6\n",
      "5\n",
      "0\n"
     ]
    }
   ],
   "source": [
    "#statistical functions\n",
    "print(x.sum())  #\n",
    "print(x.mean())\n",
    "print(x.sum(axis=0))  #sum of columns\n",
    "print(x.sum(axis=1))  #sum of rows\n",
    "print(x.std())       #\n",
    "print(x.min())\n",
    "print(x.max())\n",
    "print(x.argmax())   #index of maximum\n",
    "print(x.argmin())   #index of minimum\n"
   ]
  },
  {
   "cell_type": "code",
   "execution_count": 20,
   "metadata": {},
   "outputs": [
    {
     "name": "stdout",
     "output_type": "stream",
     "text": [
      "[[ 0.84147098  0.90929743  0.14112001]\n",
      " [-0.7568025  -0.95892427 -0.2794155 ]]\n",
      "[[ 0.54030231 -0.41614684 -0.9899925 ]\n",
      " [-0.65364362  0.28366219  0.96017029]]\n",
      "[[ 1.55740772 -2.18503986 -0.14254654]\n",
      " [ 1.15782128 -3.38051501 -0.29100619]]\n"
     ]
    }
   ],
   "source": [
    "#trignomatic function\n",
    "print(np.sin(x))\n",
    "print(np.cos(x))\n",
    "print(np.tan(x))\n",
    "print(np.arcsin(x))    #inverse sin\n"
   ]
  },
  {
   "cell_type": "code",
   "execution_count": 21,
   "metadata": {},
   "outputs": [
    {
     "name": "stdout",
     "output_type": "stream",
     "text": [
      "1\n",
      "[1 2 3]\n",
      "[1 4]\n",
      "[[1 2]\n",
      " [4 5]]\n",
      "[[1 2 3]\n",
      " [4 5 6]]\n"
     ]
    }
   ],
   "source": [
    "#indexing\n",
    "print(x[0,0])      #first row ,first column\n",
    "print(x[0, :])     #first row ,all columns\n",
    "print(x[:, 0])\n",
    "print(x[:2, :2])\n",
    "print(x[:2]) "
   ]
  },
  {
   "cell_type": "code",
   "execution_count": null,
   "metadata": {},
   "outputs": [],
   "source": []
  }
 ],
 "metadata": {
  "kernelspec": {
   "display_name": "base",
   "language": "python",
   "name": "python3"
  },
  "language_info": {
   "codemirror_mode": {
    "name": "ipython",
    "version": 3
   },
   "file_extension": ".py",
   "mimetype": "text/x-python",
   "name": "python",
   "nbconvert_exporter": "python",
   "pygments_lexer": "ipython3",
   "version": "3.10.10"
  },
  "orig_nbformat": 4
 },
 "nbformat": 4,
 "nbformat_minor": 2
}
