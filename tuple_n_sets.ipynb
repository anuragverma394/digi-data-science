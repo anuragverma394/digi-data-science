{
 "cells": [
  {
   "cell_type": "code",
   "execution_count": 1,
   "metadata": {},
   "outputs": [
    {
     "name": "stdout",
     "output_type": "stream",
     "text": [
      "(1, 2, 3)\n",
      "<class 'tuple'>\n"
     ]
    }
   ],
   "source": [
    "#tuple\n",
    "x=(1,2,3)\n",
    "print(x)\n",
    "print(type(x))"
   ]
  },
  {
   "cell_type": "code",
   "execution_count": 2,
   "metadata": {},
   "outputs": [
    {
     "name": "stdout",
     "output_type": "stream",
     "text": [
      "<class 'tuple'>\n"
     ]
    }
   ],
   "source": [
    "#single element tuple\n",
    "a=13,\n",
    "print(type(a))"
   ]
  },
  {
   "cell_type": "code",
   "execution_count": 3,
   "metadata": {},
   "outputs": [
    {
     "name": "stdout",
     "output_type": "stream",
     "text": [
      "1 2 3\n"
     ]
    }
   ],
   "source": [
    "#tuple unpacking\n",
    "x1,x2,x3=x\n",
    "print(x1,x2,x3)"
   ]
  },
  {
   "cell_type": "code",
   "execution_count": 4,
   "metadata": {},
   "outputs": [
    {
     "name": "stdout",
     "output_type": "stream",
     "text": [
      "1 2 [3, 4, 5, 6, 7, 8, 9]\n"
     ]
    }
   ],
   "source": [
    "a=(1,2,3,4,5,6,7,8,9)\n",
    "a1,a2, *a3=a    #a3 will get the remainig elements as a list\n",
    "print(a1,a2,a3)"
   ]
  },
  {
   "cell_type": "code",
   "execution_count": 5,
   "metadata": {},
   "outputs": [
    {
     "data": {
      "text/plain": [
       "(1, 2, 3, 4, 5)"
      ]
     },
     "execution_count": 5,
     "metadata": {},
     "output_type": "execute_result"
    }
   ],
   "source": [
    "a[:5]#slicing"
   ]
  },
  {
   "cell_type": "code",
   "execution_count": 6,
   "metadata": {},
   "outputs": [
    {
     "name": "stdout",
     "output_type": "stream",
     "text": [
      "1\n",
      "2\n",
      "3\n",
      "4\n",
      "5\n",
      "6\n",
      "7\n",
      "8\n",
      "9\n"
     ]
    }
   ],
   "source": [
    "for i in a:\n",
    "    print(i)"
   ]
  },
  {
   "cell_type": "code",
   "execution_count": 9,
   "metadata": {},
   "outputs": [
    {
     "name": "stdout",
     "output_type": "stream",
     "text": [
      "3\n",
      "3\n",
      "1\n",
      "2\n",
      "5\n"
     ]
    }
   ],
   "source": [
    "x=(1,2,3,4,51,2,3,4,51,2,3,4,5)\n",
    "print(x.count(2))\n",
    "print(x.count(3))\n",
    "print(x.count(1))\n",
    "print(x.count(51))#51 is the value to search\n",
    "print(x.index(2,5))  #2 is the vlaue to search and 5 is the starting index\n",
    "\n"
   ]
  },
  {
   "cell_type": "code",
   "execution_count": 10,
   "metadata": {},
   "outputs": [
    {
     "name": "stdout",
     "output_type": "stream",
     "text": [
      "(1, 2, 3)\n",
      "[1, 2, 3]\n"
     ]
    }
   ],
   "source": [
    "#convert list into tuple \n",
    "a=[1,2,3]\n",
    "at=tuple(a)\n",
    "al=list(at)\n",
    "print(at)\n",
    "print(al)"
   ]
  },
  {
   "cell_type": "code",
   "execution_count": 11,
   "metadata": {},
   "outputs": [
    {
     "name": "stdout",
     "output_type": "stream",
     "text": [
      "{1, 2, 3, 4}\n"
     ]
    }
   ],
   "source": [
    "s={1,2,3,4,1,2,3,4}\n",
    "print(s)\n"
   ]
  },
  {
   "cell_type": "code",
   "execution_count": 8,
   "metadata": {},
   "outputs": [
    {
     "name": "stdout",
     "output_type": "stream",
     "text": [
      "set()\n"
     ]
    }
   ],
   "source": [
    "s1=set()\n",
    "print(s1)"
   ]
  },
  {
   "cell_type": "code",
   "execution_count": 9,
   "metadata": {},
   "outputs": [
    {
     "name": "stdout",
     "output_type": "stream",
     "text": [
      "{'all', 'hello', 3, 4}\n"
     ]
    }
   ],
   "source": [
    "s1.add(3)\n",
    "s1.add(4)\n",
    "s1.add('hello')\n",
    "s1.add('all')\n",
    "s1.add(3)\n",
    "print(s1)"
   ]
  },
  {
   "cell_type": "code",
   "execution_count": 10,
   "metadata": {},
   "outputs": [
    {
     "name": "stdout",
     "output_type": "stream",
     "text": [
      "{'all', 'hello', 4}\n"
     ]
    }
   ],
   "source": [
    "s1.discard(3)\n",
    "print(s1)\n",
    "\n"
   ]
  },
  {
   "cell_type": "code",
   "execution_count": 11,
   "metadata": {},
   "outputs": [
    {
     "name": "stdout",
     "output_type": "stream",
     "text": [
      "all\n",
      "hello\n",
      "4\n"
     ]
    }
   ],
   "source": [
    "for i in s1:\n",
    "    print(i)"
   ]
  },
  {
   "cell_type": "code",
   "execution_count": 12,
   "metadata": {},
   "outputs": [
    {
     "data": {
      "text/plain": [
       "{'apple', 'banana', 'cherry', 'grapes', 'kiwi', 'mango', 'papaya', 'pineapple'}"
      ]
     },
     "execution_count": 12,
     "metadata": {},
     "output_type": "execute_result"
    }
   ],
   "source": [
    "group1={'apple','banana','grapes','mango','pineapple'}\n",
    "group2={'apple','kiwi','grapes','cherry','papaya'}\n",
    "\n",
    "group1 | group2  #all elements from both sets\n"
   ]
  },
  {
   "cell_type": "code",
   "execution_count": 13,
   "metadata": {},
   "outputs": [
    {
     "name": "stdout",
     "output_type": "stream",
     "text": [
      "{'banana', 'cherry', 'papaya', 'mango', 'pineapple', 'grapes', 'kiwi', 'apple'}\n"
     ]
    }
   ],
   "source": [
    "print(group1.union(group2))"
   ]
  },
  {
   "cell_type": "code",
   "execution_count": 15,
   "metadata": {},
   "outputs": [
    {
     "name": "stdout",
     "output_type": "stream",
     "text": [
      "{'apple', 'grapes'}\n",
      "{'apple', 'grapes'}\n"
     ]
    }
   ],
   "source": [
    "#intersection\n",
    "print(group1&group2)\n",
    "print(group1.intersection(group2))"
   ]
  },
  {
   "cell_type": "code",
   "execution_count": 18,
   "metadata": {},
   "outputs": [
    {
     "name": "stdout",
     "output_type": "stream",
     "text": [
      "{'mango', 'banana', 'pineapple'}\n",
      "{'kiwi', 'cherry', 'papaya'}\n",
      "{'kiwi', 'cherry', 'papaya'}\n"
     ]
    }
   ],
   "source": [
    "#difference\n",
    "print(group1-group2)\n",
    "print(group2-group1)\n",
    "print(group2.difference(group1))"
   ]
  },
  {
   "cell_type": "code",
   "execution_count": 20,
   "metadata": {},
   "outputs": [
    {
     "name": "stdout",
     "output_type": "stream",
     "text": [
      "{'mango', 'banana', 'kiwi', 'pineapple', 'cherry', 'papaya'}\n",
      "{'mango', 'banana', 'kiwi', 'pineapple', 'cherry', 'papaya'}\n"
     ]
    }
   ],
   "source": [
    "#symmetric differece\n",
    "print(group1^group2)\n",
    "print(group1.symmetric_difference(group2))"
   ]
  },
  {
   "cell_type": "code",
   "execution_count": 42,
   "metadata": {},
   "outputs": [],
   "source": [
    "report=[ \n",
    "    ['rohan',[\n",
    "        ['math', 90],\n",
    "        ['english', 90],\n",
    "        ['bio', 90],\n",
    "        ]\n",
    "        ],\n",
    "            ['RAJ',[\n",
    "        ['math', 90],\n",
    "        ['english', 90],\n",
    "        ['bio', 90],\n",
    "        ]\n",
    "        ],  \n",
    "            ['Abhi',[\n",
    "        ['math', 90],\n",
    "        ['english', 90],\n",
    "        ['bio', 90],\n",
    "        ]\n",
    "        ]\n",
    "]"
   ]
  },
  {
   "cell_type": "code",
   "execution_count": 43,
   "metadata": {},
   "outputs": [
    {
     "name": "stdout",
     "output_type": "stream",
     "text": [
      "rohan\n",
      "math 90\n",
      "english 90\n",
      "bio 90\n",
      "RAJ\n",
      "math 90\n",
      "english 90\n",
      "bio 90\n",
      "Abhi\n",
      "math 90\n",
      "english 90\n",
      "bio 90\n"
     ]
    }
   ],
   "source": [
    "for student in report:\n",
    "    for detail in student:\n",
    "        if isinstance(detail,str):\n",
    "            print(detail)\n",
    "        if isinstance(detail,list):\n",
    "             for subject in detail:\n",
    "                 print(subject[0],subject[1])\n",
    "            "
   ]
  },
  {
   "cell_type": "code",
   "execution_count": null,
   "metadata": {},
   "outputs": [],
   "source": []
  }
 ],
 "metadata": {
  "kernelspec": {
   "display_name": "base",
   "language": "python",
   "name": "python3"
  },
  "language_info": {
   "codemirror_mode": {
    "name": "ipython",
    "version": 3
   },
   "file_extension": ".py",
   "mimetype": "text/x-python",
   "name": "python",
   "nbconvert_exporter": "python",
   "pygments_lexer": "ipython3",
   "version": "3.10.10"
  },
  "orig_nbformat": 4
 },
 "nbformat": 4,
 "nbformat_minor": 2
}
