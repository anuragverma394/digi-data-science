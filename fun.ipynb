{
 "cells": [
  {
   "cell_type": "code",
   "execution_count": 2,
   "metadata": {},
   "outputs": [],
   "source": [
    "#create a fun()\n",
    "def fun():\n",
    "    pass"
   ]
  },
  {
   "cell_type": "code",
   "execution_count": 13,
   "metadata": {},
   "outputs": [],
   "source": [
    "def add5():\n",
    "    x=int(input(\"enter x number \"))\n",
    "    y=int(input(\"enter y number \"))\n",
    "    z=int(input(\"enter z number \"))\n",
    "    c=int(input(\"enter c number \"))\n",
    "    print(f'output is {x+y+z+c}')\n",
    "    \n",
    "    \n",
    "    "
   ]
  },
  {
   "cell_type": "code",
   "execution_count": 14,
   "metadata": {},
   "outputs": [
    {
     "name": "stdout",
     "output_type": "stream",
     "text": [
      "output is 178\n"
     ]
    }
   ],
   "source": [
    "#calling the function #none parameterize\n",
    "add5()"
   ]
  },
  {
   "cell_type": "code",
   "execution_count": 16,
   "metadata": {},
   "outputs": [],
   "source": [
    "def add5(a,b,c,d,e,f):\n",
    "    return a+b+c+d+e+f"
   ]
  },
  {
   "cell_type": "code",
   "execution_count": 17,
   "metadata": {},
   "outputs": [
    {
     "data": {
      "text/plain": [
       "21"
      ]
     },
     "execution_count": 17,
     "metadata": {},
     "output_type": "execute_result"
    }
   ],
   "source": [
    "add5(1,2,3,4,5,6)\n"
   ]
  },
  {
   "cell_type": "code",
   "execution_count": 2,
   "metadata": {},
   "outputs": [],
   "source": [
    "#x[-1] refers to the last element of the list x. The index -1 is a special index that represents the last element in a list.\n",
    "#x[-2] refers to the second-to-last element of the list x. \n",
    "#The index -2 represents the element preceding the last element in a list.\n",
    "#x[-1] + x[-2] adds the values of the last and second-to-last elements together.\n",
    "#Finally, x.append(...) adds the result of the addition as a new element to the end of the list x.\n",
    "\n",
    "def fib10():\n",
    "    x=[0,2]\n",
    "    for _ in range(8):\n",
    "        x.append(x[-1]+x[-2])\n",
    "    return x   \n",
    "    \n",
    "\n"
   ]
  },
  {
   "cell_type": "code",
   "execution_count": 3,
   "metadata": {},
   "outputs": [
    {
     "data": {
      "text/plain": [
       "[0, 2, 2, 4, 6, 10, 16, 26, 42, 68]"
      ]
     },
     "execution_count": 3,
     "metadata": {},
     "output_type": "execute_result"
    }
   ],
   "source": [
    "fib10()"
   ]
  },
  {
   "cell_type": "code",
   "execution_count": 5,
   "metadata": {},
   "outputs": [],
   "source": [
    "def fib_extreme(first, second,size):\n",
    "    \n",
    "    x=[first,second]\n",
    "    for _ in range(size-2):\n",
    "        x.append(x[-1]+x[-2])\n",
    "    return(x)"
   ]
  },
  {
   "cell_type": "code",
   "execution_count": 7,
   "metadata": {},
   "outputs": [
    {
     "data": {
      "text/plain": [
       "[3,\n",
       " 23,\n",
       " 26,\n",
       " 49,\n",
       " 75,\n",
       " 124,\n",
       " 199,\n",
       " 323,\n",
       " 522,\n",
       " 845,\n",
       " 1367,\n",
       " 2212,\n",
       " 3579,\n",
       " 5791,\n",
       " 9370,\n",
       " 15161,\n",
       " 24531,\n",
       " 39692,\n",
       " 64223,\n",
       " 103915,\n",
       " 168138,\n",
       " 272053,\n",
       " 440191,\n",
       " 712244,\n",
       " 1152435,\n",
       " 1864679,\n",
       " 3017114,\n",
       " 4881793,\n",
       " 7898907,\n",
       " 12780700,\n",
       " 20679607,\n",
       " 33460307,\n",
       " 54139914,\n",
       " 87600221,\n",
       " 141740135,\n",
       " 229340356,\n",
       " 371080491,\n",
       " 600420847,\n",
       " 971501338,\n",
       " 1571922185,\n",
       " 2543423523,\n",
       " 4115345708,\n",
       " 6658769231,\n",
       " 10774114939,\n",
       " 17432884170,\n",
       " 28206999109,\n",
       " 45639883279,\n",
       " 73846882388,\n",
       " 119486765667,\n",
       " 193333648055]"
      ]
     },
     "execution_count": 7,
     "metadata": {},
     "output_type": "execute_result"
    }
   ],
   "source": [
    "fib_extreme(3,23,50)"
   ]
  },
  {
   "cell_type": "code",
   "execution_count": null,
   "metadata": {},
   "outputs": [],
   "source": []
  }
 ],
 "metadata": {
  "kernelspec": {
   "display_name": "base",
   "language": "python",
   "name": "python3"
  },
  "language_info": {
   "codemirror_mode": {
    "name": "ipython",
    "version": 3
   },
   "file_extension": ".py",
   "mimetype": "text/x-python",
   "name": "python",
   "nbconvert_exporter": "python",
   "pygments_lexer": "ipython3",
   "version": "3.10.10"
  },
  "orig_nbformat": 4
 },
 "nbformat": 4,
 "nbformat_minor": 2
}
