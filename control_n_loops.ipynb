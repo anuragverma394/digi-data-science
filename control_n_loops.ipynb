{
 "cells": [
  {
   "cell_type": "code",
   "execution_count": 1,
   "metadata": {},
   "outputs": [
    {
     "name": "stdout",
     "output_type": "stream",
     "text": [
      "x is greater than y:\n",
      "x is greater than y and y is positive\n",
      "x is greater than 5 and y is greater than 2\n"
     ]
    }
   ],
   "source": [
    "x=10\n",
    "y=3\n",
    "\n",
    "if x>y:\n",
    "    print(\"x is greater than y:\")\n",
    "else:\n",
    "    print(\"no \")\n",
    "if x>y and y>0:\n",
    "    print(\"x is greater than y and y is positive\")\n",
    "if x>5:\n",
    "\n",
    "\n",
    "  if y>2:\n",
    "    print(\"x is greater than 5 and y is greater than 2\")\n"
   ]
  },
  {
   "cell_type": "code",
   "execution_count": 2,
   "metadata": {},
   "outputs": [
    {
     "name": "stdout",
     "output_type": "stream",
     "text": [
      "invalid day\n"
     ]
    }
   ],
   "source": [
    "day =input('Enter the day of the week :')\n",
    "match day :\n",
    "    case 'Monday':\n",
    "        print('Today is monday')\n",
    "    case 'Tuesday':\n",
    "        print('Today is Tuesday')\n",
    "    case _:\n",
    "        print('invalid day')\n",
    "\n",
    "                    "
   ]
  },
  {
   "cell_type": "code",
   "execution_count": null,
   "metadata": {},
   "outputs": [],
   "source": []
  }
 ],
 "metadata": {
  "kernelspec": {
   "display_name": "base",
   "language": "python",
   "name": "python3"
  },
  "language_info": {
   "codemirror_mode": {
    "name": "ipython",
    "version": 3
   },
   "file_extension": ".py",
   "mimetype": "text/x-python",
   "name": "python",
   "nbconvert_exporter": "python",
   "pygments_lexer": "ipython3",
   "version": "3.10.10"
  },
  "orig_nbformat": 4
 },
 "nbformat": 4,
 "nbformat_minor": 2
}
