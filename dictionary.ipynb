{
 "cells": [
  {
   "cell_type": "code",
   "execution_count": 1,
   "metadata": {},
   "outputs": [],
   "source": [
    "fruits={\n",
    "    \"apple\":2,\n",
    "    \"banana\":3,\n",
    "    \"orange\":5\n",
    "}"
   ]
  },
  {
   "cell_type": "code",
   "execution_count": 3,
   "metadata": {},
   "outputs": [],
   "source": [
    "grocery={\n",
    "    'fruits':['apple','banana','orange','grape'],\n",
    "    'vegetables':['carrot','lettuce','onion'],\n",
    "     'dairy':['milk','cheese','yogurt'],\n",
    "     'meat':None             \n",
    "}"
   ]
  },
  {
   "cell_type": "code",
   "execution_count": 1,
   "metadata": {},
   "outputs": [
    {
     "data": {
      "text/plain": [
       "{'rajesh': {'english': 90, 'Math': 80, 'Science': 70},\n",
       " 'raj': {'english': 90, 'Math': 80, 'Science': 70}}"
      ]
     },
     "execution_count": 1,
     "metadata": {},
     "output_type": "execute_result"
    }
   ],
   "source": [
    "reports={\n",
    "    'rajesh':{\n",
    "        'english':90,\n",
    "        'Math':80,\n",
    "        'Science':70,\n",
    "        \n",
    "    },\n",
    "    'raj':{\n",
    "        'english':90,\n",
    "        'Math':80,\n",
    "        'Science':70,\n",
    "        \n",
    "    }\n",
    "    \n",
    "}\n",
    "reports"
   ]
  },
  {
   "cell_type": "code",
   "execution_count": 5,
   "metadata": {},
   "outputs": [
    {
     "name": "stdout",
     "output_type": "stream",
     "text": [
      "{'apple': 2, 'banana': 3, 'orange': 5}\n",
      "{'rajesh': {'english': 90, 'Math': 80, 'Science': 70}, 'raj': {'english': 90, 'Math': 80, 'Science': 70}}\n",
      "{'fruits': ['apple', 'banana', 'orange', 'grape'], 'vegetables': ['carrot', 'lettuce', 'onion'], 'dairy': ['milk', 'cheese', 'yogurt'], 'meat': None}\n"
     ]
    }
   ],
   "source": [
    "print(fruits)\n",
    "print(reports)\n",
    "print(grocery)"
   ]
  },
  {
   "cell_type": "code",
   "execution_count": 6,
   "metadata": {},
   "outputs": [],
   "source": [
    "from pprint import pp"
   ]
  },
  {
   "cell_type": "code",
   "execution_count": 7,
   "metadata": {},
   "outputs": [
    {
     "name": "stdout",
     "output_type": "stream",
     "text": [
      "{'fruits': ['apple', 'banana', 'orange', 'grape'],\n",
      " 'vegetables': ['carrot', 'lettuce', 'onion'],\n",
      " 'dairy': ['milk', 'cheese', 'yogurt'],\n",
      " 'meat': None}\n"
     ]
    }
   ],
   "source": [
    "pp(grocery)"
   ]
  },
  {
   "cell_type": "code",
   "execution_count": 8,
   "metadata": {},
   "outputs": [
    {
     "data": {
      "text/plain": [
       "2"
      ]
     },
     "execution_count": 8,
     "metadata": {},
     "output_type": "execute_result"
    }
   ],
   "source": [
    "fruits['apple']  #data fetched "
   ]
  },
  {
   "cell_type": "code",
   "execution_count": 9,
   "metadata": {},
   "outputs": [
    {
     "name": "stdout",
     "output_type": "stream",
     "text": [
      "{'apple': 10, 'banana': 3, 'orange': 5}\n"
     ]
    }
   ],
   "source": [
    "#update vlaue in dictionary\n",
    "fruits['apple']=10\n",
    "pp(fruits)"
   ]
  },
  {
   "cell_type": "code",
   "execution_count": 11,
   "metadata": {},
   "outputs": [
    {
     "name": "stdout",
     "output_type": "stream",
     "text": [
      "{'apple': 10, 'banana': 3, 'orange': 5, 'mango': 21}\n"
     ]
    }
   ],
   "source": [
    "#add new value\n",
    "fruits['mango']=21\n",
    "pp(fruits)"
   ]
  },
  {
   "cell_type": "code",
   "execution_count": 12,
   "metadata": {},
   "outputs": [
    {
     "name": "stdout",
     "output_type": "stream",
     "text": [
      "{'fruits': ['apple', 'banana', 'orange', 'grape'],\n",
      " 'vegetables': ['carrot', 'lettuce', 'onion'],\n",
      " 'dairy': ['milk', 'cheese', 'yogurt'],\n",
      " 'meat': None,\n",
      " 'spices': ['cumin', 'coriander', 'turmeric']}\n"
     ]
    }
   ],
   "source": [
    "grocery['spices']=['cumin','coriander','turmeric']\n",
    "pp(grocery)"
   ]
  },
  {
   "cell_type": "code",
   "execution_count": 13,
   "metadata": {},
   "outputs": [
    {
     "name": "stdout",
     "output_type": "stream",
     "text": [
      "{'fruits': ['apple', 'banana', 'orange', 'grape', 'mango'],\n",
      " 'vegetables': ['carrot', 'lettuce', 'onion'],\n",
      " 'dairy': ['milk', 'cheese', 'yogurt'],\n",
      " 'meat': None,\n",
      " 'spices': ['cumin', 'coriander', 'turmeric']}\n"
     ]
    }
   ],
   "source": [
    "#add new value\n",
    "grocery['fruits'].append('mango')\n",
    "pp(grocery)"
   ]
  },
  {
   "cell_type": "code",
   "execution_count": 14,
   "metadata": {},
   "outputs": [
    {
     "name": "stdout",
     "output_type": "stream",
     "text": [
      "{'rajesh': {'english': 90, 'Math': 80, 'Science': 70},\n",
      " 'raj': {'english': 90, 'Math': 80, 'Science': 70, 'evs': 99}}\n"
     ]
    }
   ],
   "source": [
    "reports['raj']['evs']=99\n",
    "pp(reports)"
   ]
  },
  {
   "cell_type": "code",
   "execution_count": 15,
   "metadata": {},
   "outputs": [
    {
     "data": {
      "text/plain": [
       "3"
      ]
     },
     "execution_count": 15,
     "metadata": {},
     "output_type": "execute_result"
    }
   ],
   "source": [
    "fruits.pop('banana')# remove key-value pairs from dictionary"
   ]
  },
  {
   "cell_type": "code",
   "execution_count": 16,
   "metadata": {},
   "outputs": [
    {
     "data": {
      "text/plain": [
       "{'english': 90, 'Math': 80, 'Science': 70, 'evs': 99}"
      ]
     },
     "execution_count": 16,
     "metadata": {},
     "output_type": "execute_result"
    }
   ],
   "source": [
    "reports.pop('raj')\n"
   ]
  },
  {
   "cell_type": "code",
   "execution_count": 17,
   "metadata": {},
   "outputs": [],
   "source": [
    "grocery.pop('meat')"
   ]
  },
  {
   "cell_type": "code",
   "execution_count": 18,
   "metadata": {},
   "outputs": [
    {
     "data": {
      "text/plain": [
       "{'fruits': ['apple', 'banana', 'orange', 'grape', 'mango'],\n",
       " 'vegetables': ['carrot', 'lettuce', 'onion'],\n",
       " 'dairy': ['milk', 'cheese', 'yogurt'],\n",
       " 'spices': ['cumin', 'coriander', 'turmeric']}"
      ]
     },
     "execution_count": 18,
     "metadata": {},
     "output_type": "execute_result"
    }
   ],
   "source": [
    "grocery\n"
   ]
  },
  {
   "cell_type": "code",
   "execution_count": 19,
   "metadata": {},
   "outputs": [
    {
     "name": "stdout",
     "output_type": "stream",
     "text": [
      "{'fruits': ['apple', 'banana', 'orange', 'grape', 'mango'], 'vegetables': ['carrot', 'lettuce'], 'dairy': ['milk', 'cheese', 'yogurt'], 'spices': ['cumin', 'coriander', 'turmeric']}\n"
     ]
    }
   ],
   "source": [
    "grocery['vegetables'].remove('onion')\n",
    "print(grocery)"
   ]
  },
  {
   "cell_type": "code",
   "execution_count": 20,
   "metadata": {},
   "outputs": [
    {
     "data": {
      "text/plain": [
       "dict_keys(['apple', 'orange', 'mango'])"
      ]
     },
     "execution_count": 20,
     "metadata": {},
     "output_type": "execute_result"
    }
   ],
   "source": [
    "fruits.keys() #get all keys"
   ]
  },
  {
   "cell_type": "code",
   "execution_count": 21,
   "metadata": {},
   "outputs": [
    {
     "data": {
      "text/plain": [
       "dict_values([10, 5, 21])"
      ]
     },
     "execution_count": 21,
     "metadata": {},
     "output_type": "execute_result"
    }
   ],
   "source": [
    "fruits.values()"
   ]
  },
  {
   "cell_type": "code",
   "execution_count": 22,
   "metadata": {},
   "outputs": [
    {
     "data": {
      "text/plain": [
       "dict_items([('apple', 10), ('orange', 5), ('mango', 21)])"
      ]
     },
     "execution_count": 22,
     "metadata": {},
     "output_type": "execute_result"
    }
   ],
   "source": [
    "fruits.items()  #get all key-value pairs from dictionary\n"
   ]
  },
  {
   "cell_type": "code",
   "execution_count": 23,
   "metadata": {},
   "outputs": [
    {
     "name": "stdout",
     "output_type": "stream",
     "text": [
      "apple 10\n",
      "orange 5\n",
      "mango 21\n"
     ]
    }
   ],
   "source": [
    "#traversal\n",
    "for k,v in fruits.items():\n",
    "    print(k,v)"
   ]
  },
  {
   "cell_type": "code",
   "execution_count": 25,
   "metadata": {},
   "outputs": [
    {
     "data": {
      "text/plain": [
       "{'rajesh': {'english': 90, 'Math': 80, 'Science': 70}}"
      ]
     },
     "execution_count": 25,
     "metadata": {},
     "output_type": "execute_result"
    }
   ],
   "source": [
    "reports\n"
   ]
  },
  {
   "cell_type": "code",
   "execution_count": 26,
   "metadata": {},
   "outputs": [
    {
     "data": {
      "text/plain": [
       "80"
      ]
     },
     "execution_count": 26,
     "metadata": {},
     "output_type": "execute_result"
    }
   ],
   "source": [
    "reports['rajesh']['Math']\n"
   ]
  },
  {
   "cell_type": "code",
   "execution_count": 27,
   "metadata": {},
   "outputs": [],
   "source": [
    "reports['rajesh']['Math']=90\n"
   ]
  },
  {
   "cell_type": "code",
   "execution_count": 28,
   "metadata": {},
   "outputs": [
    {
     "data": {
      "text/plain": [
       "{'rajesh': {'english': 90, 'Math': 90, 'Science': 70}}"
      ]
     },
     "execution_count": 28,
     "metadata": {},
     "output_type": "execute_result"
    }
   ],
   "source": [
    "reports"
   ]
  },
  {
   "cell_type": "code",
   "execution_count": 29,
   "metadata": {},
   "outputs": [
    {
     "data": {
      "text/plain": [
       "'not available'"
      ]
     },
     "execution_count": 29,
     "metadata": {},
     "output_type": "execute_result"
    }
   ],
   "source": [
    "reports.get('raj','not available')"
   ]
  },
  {
   "cell_type": "code",
   "execution_count": 31,
   "metadata": {},
   "outputs": [
    {
     "name": "stdout",
     "output_type": "stream",
     "text": [
      "{'rajesh': {'english': 90, 'Math': 90, 'Science': 70},\n",
      " 'sunita': {'english': 90, 'Math': 90, 'Science': 70}}\n"
     ]
    }
   ],
   "source": [
    "reports['sunita']={'english': 90, 'Math': 90, 'Science': 70}\n",
    "pp(reports)"
   ]
  },
  {
   "cell_type": "code",
   "execution_count": 37,
   "metadata": {},
   "outputs": [
    {
     "name": "stdout",
     "output_type": "stream",
     "text": [
      "rajesh\n",
      "90 in english\n",
      "90 in Math\n",
      "70 in Science\n",
      "------------------------------\n",
      "sunita\n",
      "90 in english\n",
      "90 in Math\n",
      "70 in Science\n",
      "------------------------------\n"
     ]
    }
   ],
   "source": [
    "for students,Detail in reports.items():\n",
    "    print(students)\n",
    "    for subject,marks in Detail.items():\n",
    "        print(f'{marks} in {subject}')\n",
    "    print('---'* 10)\n"
   ]
  },
  {
   "cell_type": "code",
   "execution_count": 42,
   "metadata": {},
   "outputs": [],
   "source": [
    "informations={\n",
    "           'name':'abhi',\n",
    "            'department':'HR',\n",
    "           'salary':100000,\n",
    "           'skills':['communication','management'],\n",
    "           'projects':{\n",
    "               'project1':{\n",
    "               'project_name':\"HRMS\",\n",
    "               'project_duration':5,\n",
    "               'project_technology':['excel','power bi']\n",
    "           \n",
    "           },\n",
    "          \n",
    "},\n",
    "\n",
    " 'name':'raj',\n",
    "           'department':'HR',\n",
    "           'salary':21000,\n",
    "           'skills':['communication','management'],\n",
    "           'projects':{\n",
    "               'project1':{\n",
    "               'project_name':\"AI\",\n",
    "               'project_duration':5,\n",
    "               'project_technology':['python']\n",
    "},\n",
    "},\n",
    " 'name':'rahul',\n",
    "           'department':'HR',\n",
    "           'salary':21000,\n",
    "           'skills':['communication','management'],\n",
    "           'projects':{\n",
    "               'project1':{\n",
    "               'project_name':\"AI\",\n",
    "               'project_duration':5,\n",
    "               'project_technology':['python']\n",
    "},\n",
    "           },\n",
    "            'name':'rajnesh',\n",
    "           'department':'HR',\n",
    "           'salary':21000,\n",
    "           'skills':['communication','management'],\n",
    "           'projects':{\n",
    "               'project1':{\n",
    "               'project_name':\"AI\",\n",
    "               'project_duration':5,\n",
    "               'project_technology':['python']\n",
    "}\n",
    "           }\n",
    "}"
   ]
  },
  {
   "cell_type": "code",
   "execution_count": 43,
   "metadata": {},
   "outputs": [
    {
     "name": "stdout",
     "output_type": "stream",
     "text": [
      "{'name': 'rajnesh',\n",
      " 'department': 'HR',\n",
      " 'salary': 21000,\n",
      " 'skills': ['communication', 'management'],\n",
      " 'projects': {'project1': {'project_name': 'AI',\n",
      "                           'project_duration': 5,\n",
      "                           'project_technology': ['python']}}}\n"
     ]
    }
   ],
   "source": [
    "pp(informations)"
   ]
  },
  {
   "cell_type": "code",
   "execution_count": 44,
   "metadata": {},
   "outputs": [
    {
     "name": "stdout",
     "output_type": "stream",
     "text": [
      "{'name': 'rajnesh', 'department': 'HR', 'salary': 21000, 'skills': ['communication', 'management'], 'projects': {'project1': {'project_name': 'AI', 'project_duration': 5, 'project_technology': ['python']}}}\n"
     ]
    }
   ],
   "source": [
    "print(informations)"
   ]
  },
  {
   "cell_type": "code",
   "execution_count": null,
   "metadata": {},
   "outputs": [],
   "source": []
  }
 ],
 "metadata": {
  "kernelspec": {
   "display_name": "base",
   "language": "python",
   "name": "python3"
  },
  "language_info": {
   "codemirror_mode": {
    "name": "ipython",
    "version": 3
   },
   "file_extension": ".py",
   "mimetype": "text/x-python",
   "name": "python",
   "nbconvert_exporter": "python",
   "pygments_lexer": "ipython3",
   "version": "3.10.10"
  },
  "orig_nbformat": 4
 },
 "nbformat": 4,
 "nbformat_minor": 2
}
