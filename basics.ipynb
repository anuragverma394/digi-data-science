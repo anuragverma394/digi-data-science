{
 "cells": [
  {
   "cell_type": "code",
   "execution_count": 5,
   "metadata": {},
   "outputs": [],
   "source": [
    "a=10\n",
    "b=3.12\n",
    "c=True"
   ]
  },
  {
   "cell_type": "code",
   "execution_count": 6,
   "metadata": {},
   "outputs": [],
   "source": [
    "x,y,z=1,2,3"
   ]
  },
  {
   "cell_type": "code",
   "execution_count": 7,
   "metadata": {},
   "outputs": [],
   "source": [
    "name=input(\"enter your name \")\n",
    "city=input(\"enter your city \")\n",
    "age=input(\"enter your mental age \")\n",
    "\n"
   ]
  },
  {
   "cell_type": "code",
   "execution_count": 8,
   "metadata": {},
   "outputs": [],
   "source": [
    "name=input(\"enter your name \")\n",
    "city=input(\"enter your city \")\n",
    "age=int(input(\"enter your mental age \"))"
   ]
  },
  {
   "cell_type": "code",
   "execution_count": 9,
   "metadata": {},
   "outputs": [
    {
     "name": "stdout",
     "output_type": "stream",
     "text": [
      "anu\n"
     ]
    }
   ],
   "source": [
    "print(name)"
   ]
  },
  {
   "cell_type": "code",
   "execution_count": 10,
   "metadata": {},
   "outputs": [
    {
     "name": "stdout",
     "output_type": "stream",
     "text": [
      "hello,  my name is anu\n"
     ]
    }
   ],
   "source": [
    "print('hello,  my name is',name)\n"
   ]
  },
  {
   "cell_type": "code",
   "execution_count": 11,
   "metadata": {},
   "outputs": [
    {
     "name": "stdout",
     "output_type": "stream",
     "text": [
      "anu 0 kanp\n"
     ]
    }
   ],
   "source": [
    "print(name, age,city)\n"
   ]
  },
  {
   "cell_type": "code",
   "execution_count": 8,
   "metadata": {},
   "outputs": [
    {
     "name": "stdout",
     "output_type": "stream",
     "text": [
      "10..11..12\n",
      "this is python  |but i love java\n",
      "we have three value :a= 10 b= 11 c= 12\n"
     ]
    }
   ],
   "source": [
    "#sep fun in print \n",
    "a,b,c=10,11,12\n",
    "print(a,b,c,sep=\"..\")\n",
    "\n",
    "#end use for not to change the line \n",
    "print('this is python  ',end='|')\n",
    "print('but i love java')\n",
    "\n",
    "print('we have three value :a=',a,'b=',b,'c=',c)"
   ]
  },
  {
   "cell_type": "code",
   "execution_count": 15,
   "metadata": {},
   "outputs": [
    {
     "name": "stdout",
     "output_type": "stream",
     "text": [
      "3.142857142857143\n",
      "The vlaue of pi is 3.142857142857143\n",
      "the value of pi is 3.14\n",
      "we have three values a=12,b=13,c=14\n",
      "The vlaue of pi is 3.14\n"
     ]
    }
   ],
   "source": [
    "a,b,c=12,13,14\n",
    "pi=22/7\n",
    "print(pi)\n",
    "\n",
    "#display statement \n",
    "print('The vlaue of pi is',pi)\n",
    "\n",
    "print('the value of pi is',round(pi,2))\n",
    "\n",
    "#formatted string just type [f'']\n",
    "print(f'we have three values a={a},b={b},c={c}')\n",
    "\n",
    "#other way to round of \n",
    "print(f'The vlaue of pi is {pi:.2f}')\n"
   ]
  },
  {
   "cell_type": "code",
   "execution_count": 16,
   "metadata": {},
   "outputs": [
    {
     "data": {
      "text/plain": [
       "12.5"
      ]
     },
     "execution_count": 16,
     "metadata": {},
     "output_type": "execute_result"
    }
   ],
   "source": [
    "#operaters in pyhton\n",
    "# * multi,/ divide,% modulor,//   ,** expo\n",
    "5+3*2+3/2\n",
    "\n"
   ]
  },
  {
   "cell_type": "code",
   "execution_count": 22,
   "metadata": {},
   "outputs": [
    {
     "name": "stdout",
     "output_type": "stream",
     "text": [
      "20\n",
      "18\n",
      "54\n",
      "2916\n"
     ]
    }
   ],
   "source": [
    "#assignment opretor\n",
    "x=10\n",
    "x +=10 \n",
    "print(x)\n",
    "x-= 2\n",
    "print(x)\n",
    "\n",
    "x*=3\n",
    "print(x)\n",
    "\n",
    "x**=2\n",
    "print(x)"
   ]
  },
  {
   "cell_type": "code",
   "execution_count": 28,
   "metadata": {},
   "outputs": [
    {
     "data": {
      "text/plain": [
       "True"
      ]
     },
     "execution_count": 28,
     "metadata": {},
     "output_type": "execute_result"
    }
   ],
   "source": [
    "#comparison\n",
    "x=13\n",
    "y=10\n",
    "x==y\n",
    "\n",
    "x>y \n"
   ]
  },
  {
   "cell_type": "code",
   "execution_count": 32,
   "metadata": {},
   "outputs": [
    {
     "data": {
      "text/plain": [
       "False"
      ]
     },
     "execution_count": 32,
     "metadata": {},
     "output_type": "execute_result"
    }
   ],
   "source": [
    "\n",
    "#membership operator help in searching\n",
    "color=['red','gree','white']\n",
    "'red'in color\n",
    "'yellow' in color\n"
   ]
  },
  {
   "cell_type": "code",
   "execution_count": 34,
   "metadata": {},
   "outputs": [
    {
     "data": {
      "text/plain": [
       "True"
      ]
     },
     "execution_count": 34,
     "metadata": {},
     "output_type": "execute_result"
    }
   ],
   "source": [
    "#identity operator \"is\" use in dSA #location check\n",
    "a=10\n",
    "b=20\n",
    "a is b\n",
    "c=10\n",
    "a is c"
   ]
  },
  {
   "cell_type": "code",
   "execution_count": null,
   "metadata": {},
   "outputs": [],
   "source": []
  }
 ],
 "metadata": {
  "kernelspec": {
   "display_name": "base",
   "language": "python",
   "name": "python3"
  },
  "language_info": {
   "codemirror_mode": {
    "name": "ipython",
    "version": 3
   },
   "file_extension": ".py",
   "mimetype": "text/x-python",
   "name": "python",
   "nbconvert_exporter": "python",
   "pygments_lexer": "ipython3",
   "version": "3.10.10"
  },
  "orig_nbformat": 4
 },
 "nbformat": 4,
 "nbformat_minor": 2
}
