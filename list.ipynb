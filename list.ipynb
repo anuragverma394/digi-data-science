{
 "cells": [
  {
   "cell_type": "code",
   "execution_count": 1,
   "metadata": {},
   "outputs": [],
   "source": [
    "x=[1,2,3,4,5,6,7,8]\n",
    "y=[]\n",
    "z=['apple','banana','cherry','kiwi']\n",
    "a=['alex',4,'sam']#multiple value\n",
    "#nested list\n",
    "a3=[[1,2,3],\n",
    "    [4,5,6],\n",
    "    [7,8,9]]"
   ]
  },
  {
   "cell_type": "code",
   "execution_count": 63,
   "metadata": {},
   "outputs": [],
   "source": [
    "class Movie:\n",
    "    def __init__(self,name,year):\n",
    "        self.name=name\n",
    "        self.year=year\n",
    "movies=[Movie('matrix',1999),\n",
    "        Movie('matrix reload',20003),\n",
    "        Movie('matrix revo',2003)\n",
    "        ]\n",
    "\n",
    "      \n"
   ]
  },
  {
   "cell_type": "code",
   "execution_count": 64,
   "metadata": {},
   "outputs": [
    {
     "data": {
      "text/plain": [
       "[<__main__.Movie at 0x1e2ef9765f0>,\n",
       " <__main__.Movie at 0x1e2ef975f30>,\n",
       " <__main__.Movie at 0x1e2ef976740>,\n",
       " 'shrek',\n",
       " 'harry potter 1',\n",
       " 'harry potter 2',\n",
       " 'harry potter 3',\n",
       " 'harry potter 4',\n",
       " 'harry potter 5',\n",
       " 'harry potter 6',\n",
       " 'harry potter 7']"
      ]
     },
     "execution_count": 64,
     "metadata": {},
     "output_type": "execute_result"
    }
   ],
   "source": [
    "movie=[]\n",
    "movies.append('shrek')\n",
    "movies.append('harry potter 1')\n",
    "movies.append('harry potter 2')\n",
    "movies.append('harry potter 3')\n",
    "movies.append('harry potter 4')\n",
    "movies.append('harry potter 5')\n",
    "movies.append('harry potter 6')\n",
    "movies.append('harry potter 7')\n",
    "movies"
   ]
  },
  {
   "cell_type": "code",
   "execution_count": 65,
   "metadata": {},
   "outputs": [
    {
     "data": {
      "text/plain": [
       "[<__main__.Movie at 0x1e2ef9765f0>,\n",
       " <__main__.Movie at 0x1e2ef975f30>,\n",
       " <__main__.Movie at 0x1e2ef976740>,\n",
       " 'shrek',\n",
       " 'harry potter 1',\n",
       " 'harry potter 2',\n",
       " 'harry potter 3',\n",
       " 'kung fu panda',\n",
       " 'harry potter 5',\n",
       " 'harry potter 6',\n",
       " 'harry potter 7']"
      ]
     },
     "execution_count": 65,
     "metadata": {},
     "output_type": "execute_result"
    }
   ],
   "source": [
    "movies[7]='kung fu panda'\n",
    "movies"
   ]
  },
  {
   "cell_type": "code",
   "execution_count": 66,
   "metadata": {},
   "outputs": [
    {
     "data": {
      "text/plain": [
       "[<__main__.Movie at 0x1e2ef9765f0>,\n",
       " <__main__.Movie at 0x1e2ef975f30>,\n",
       " <__main__.Movie at 0x1e2ef976740>,\n",
       " 'shrek',\n",
       " 'harry potter 1',\n",
       " 'harry potter 2',\n",
       " 'harry potter 3',\n",
       " 'kung fu panda 2',\n",
       " 'kung fu panda',\n",
       " 'harry potter 5',\n",
       " 'harry potter 6',\n",
       " 'harry potter 7']"
      ]
     },
     "execution_count": 66,
     "metadata": {},
     "output_type": "execute_result"
    }
   ],
   "source": [
    "#insert ()\n",
    "movies.insert(7,'kung fu panda 2')\n",
    "movies"
   ]
  },
  {
   "cell_type": "code",
   "execution_count": 67,
   "metadata": {},
   "outputs": [
    {
     "data": {
      "text/plain": [
       "[<__main__.Movie at 0x1e2ef9765f0>,\n",
       " <__main__.Movie at 0x1e2ef975f30>,\n",
       " <__main__.Movie at 0x1e2ef976740>,\n",
       " 'shrek',\n",
       " 'harry potter 1',\n",
       " 'harry potter 2',\n",
       " 'harry potter 3',\n",
       " 'kung fu panda 2',\n",
       " 'harry potter 5',\n",
       " 'harry potter 6',\n",
       " 'harry potter 7']"
      ]
     },
     "execution_count": 67,
     "metadata": {},
     "output_type": "execute_result"
    }
   ],
   "source": [
    "movies.remove('kung fu panda')\n",
    "movies"
   ]
  },
  {
   "cell_type": "code",
   "execution_count": 69,
   "metadata": {},
   "outputs": [
    {
     "data": {
      "text/plain": [
       "[<__main__.Movie at 0x1e2ef9765f0>,\n",
       " <__main__.Movie at 0x1e2ef975f30>,\n",
       " <__main__.Movie at 0x1e2ef976740>,\n",
       " 'shrek',\n",
       " 'harry potter 1',\n",
       " 'harry potter 2',\n",
       " 'harry potter 3',\n",
       " 'kung fu panda 2',\n",
       " 'harry potter 5']"
      ]
     },
     "execution_count": 69,
     "metadata": {},
     "output_type": "execute_result"
    }
   ],
   "source": [
    "movies.pop()  #remove last element\n",
    "movies"
   ]
  },
  {
   "cell_type": "code",
   "execution_count": 52,
   "metadata": {},
   "outputs": [
    {
     "name": "stdout",
     "output_type": "stream",
     "text": [
      "[1, 2, 3, 4, 5, 6, 7, 8, 9, 10, 11, 12, 13, 14, 15, 16, 17, 18, 19, 20, 21, 22, 23, 24, 25, 26, 27, 28, 29, 30, 31, 32, 33, 34, 35, 36, 37, 38, 39, 40, 41, 42, 43, 44, 45, 46, 47, 48, 49, 50, 51, 52, 53, 54, 55, 56, 57, 58, 59, 60, 61, 62, 63, 64, 65, 66, 67, 68, 69, 70, 71, 72, 73, 74, 75, 76, 77, 78, 79, 80, 81, 82, 83, 84, 85, 86, 87, 88, 89, 90, 91, 92, 93, 94, 95, 96, 97, 98, 99, 100]\n",
      "[1, 2, 3, 4, 5, 6, 7, 8, 9, 10]\n",
      "[11, 12, 13, 14, 15, 16, 17, 18, 19, 20]\n",
      "[91, 92, 93, 94, 95, 96, 97, 98, 99, 100]\n",
      "[51, 50, 49, 48, 47, 46, 45, 44, 43, 42, 41, 40, 39, 38, 37, 36, 35, 34, 33, 32]\n",
      "[2, 4, 6, 8, 10, 12, 14, 16, 18, 20, 22, 24, 26, 28, 30, 32, 34, 36, 38, 40, 42, 44, 46, 48, 50, 52, 54, 56, 58, 60, 62, 64, 66, 68, 70, 72, 74, 76, 78, 80, 82, 84, 86, 88, 90, 92, 94, 96, 98, 100]\n",
      "[1, 3, 5, 7, 9, 11, 13, 15, 17, 19, 21, 23, 25, 27, 29, 31, 33, 35, 37, 39, 41, 43, 45, 47, 49, 51, 53, 55, 57, 59, 61, 63, 65, 67, 69, 71, 73, 75, 77, 79, 81, 83, 85, 87, 89, 91, 93, 95, 97, 99]\n",
      "[100, 99, 98, 97, 96, 95, 94, 93, 92, 91, 90, 89, 88, 87, 86, 85, 84, 83, 82, 81, 80, 79, 78, 77, 76, 75, 74, 73, 72, 71, 70, 69, 68, 67, 66, 65, 64, 63, 62, 61, 60, 59, 58, 57, 56, 55, 54, 53, 52, 51, 50, 49, 48, 47, 46, 45, 44, 43, 42, 41, 40, 39, 38, 37, 36, 35, 34, 33, 32, 31, 30, 29, 28, 27, 26, 25, 24, 23, 22, 21, 20, 19, 18, 17, 16, 15, 14, 13, 12, 11, 10, 9, 8, 7, 6, 5, 4, 3, 2, 1]\n"
     ]
    }
   ],
   "source": [
    "data =list(range(1,101))\n",
    "print(list(range(1,101)))\n",
    "print(data[:10])\n",
    "print(data[10:20])\n",
    "print(data[-10:])\n",
    "print(data[50:30:-1])\n",
    "print(data[1::2]) #even\n",
    "print(data[::2])   #odd\n",
    "print(data[::-1])"
   ]
  },
  {
   "cell_type": "code",
   "execution_count": null,
   "metadata": {},
   "outputs": [],
   "source": []
  },
  {
   "cell_type": "code",
   "execution_count": 6,
   "metadata": {},
   "outputs": [
    {
     "name": "stdout",
     "output_type": "stream",
     "text": [
      "alex\n",
      "sam\n",
      "4\n"
     ]
    }
   ],
   "source": [
    "print(a[0])\n",
    "print(a[-1])\n",
    "print(a[-2])"
   ]
  },
  {
   "cell_type": "code",
   "execution_count": 17,
   "metadata": {},
   "outputs": [
    {
     "name": "stdout",
     "output_type": "stream",
     "text": [
      "['jojo', 'deathnote', 'one puch', 'bleach', 'mob']\n"
     ]
    }
   ],
   "source": [
    "#user create list\n",
    "animelist =[]\n",
    "for i in range(5):\n",
    "    name = input('enter an anime:')\n",
    "    animelist.append(name)\n",
    "print(animelist)"
   ]
  },
  {
   "cell_type": "code",
   "execution_count": 19,
   "metadata": {},
   "outputs": [
    {
     "name": "stdout",
     "output_type": "stream",
     "text": [
      "[1, 2, 3, 4, 5, 6, 7, 8]\n"
     ]
    }
   ],
   "source": [
    "x=[1,2,3,4]\n",
    "y=[5,6,7,8]\n",
    "\n",
    "x.extend(y)\n",
    "print(x)"
   ]
  },
  {
   "cell_type": "code",
   "execution_count": 32,
   "metadata": {},
   "outputs": [],
   "source": [
    "books=[\n",
    "    'the final empire',\n",
    "    'hero of age',\n",
    "    'well of ascension',\n",
    "    'word of radiance',\n",
    "    'rythm of war'\n",
    "]\n",
    "\n"
   ]
  },
  {
   "cell_type": "code",
   "execution_count": 33,
   "metadata": {},
   "outputs": [
    {
     "data": {
      "text/plain": [
       "4"
      ]
     },
     "execution_count": 33,
     "metadata": {},
     "output_type": "execute_result"
    }
   ],
   "source": [
    "books.index('rythm of war')"
   ]
  },
  {
   "cell_type": "code",
   "execution_count": 34,
   "metadata": {},
   "outputs": [
    {
     "name": "stdout",
     "output_type": "stream",
     "text": [
      "2\n",
      "3\n",
      "2\n",
      "3\n"
     ]
    }
   ],
   "source": [
    "x=[12,13,14,12,113,14,14,1112,12,1,1,13]\n",
    "print(x.count(1))\n",
    "print(x.count(12))\n",
    "print(x.count(13))\n",
    "print(x.count(14))\n"
   ]
  },
  {
   "cell_type": "code",
   "execution_count": 37,
   "metadata": {},
   "outputs": [
    {
     "name": "stdout",
     "output_type": "stream",
     "text": [
      "['rythm of war', 'word of radiance', 'well of ascension', 'hero of age', 'the final empire']\n"
     ]
    }
   ],
   "source": [
    "books.reverse()\n",
    "print(books)"
   ]
  },
  {
   "cell_type": "code",
   "execution_count": 38,
   "metadata": {},
   "outputs": [
    {
     "name": "stdout",
     "output_type": "stream",
     "text": [
      "['hero of age', 'rythm of war', 'the final empire', 'well of ascension', 'word of radiance']\n"
     ]
    }
   ],
   "source": [
    "books.sort()  #sort data in ascending order if all elemets are same type\n",
    "print(books)"
   ]
  },
  {
   "cell_type": "code",
   "execution_count": 39,
   "metadata": {},
   "outputs": [
    {
     "name": "stdout",
     "output_type": "stream",
     "text": [
      "['word of radiance', 'well of ascension', 'the final empire', 'rythm of war', 'hero of age']\n"
     ]
    }
   ],
   "source": [
    "books.sort(reverse=True)\n",
    "print(books)"
   ]
  },
  {
   "cell_type": "code",
   "execution_count": 41,
   "metadata": {},
   "outputs": [],
   "source": [
    "books_backup=books.copy() #create a copy of list\n",
    "books2=books #don't use"
   ]
  },
  {
   "cell_type": "code",
   "execution_count": 42,
   "metadata": {},
   "outputs": [
    {
     "name": "stdout",
     "output_type": "stream",
     "text": [
      "['word of radiance', 'well of ascension', 'the final empire', 'rythm of war', 'hero of age', 'the alloy of law']\n",
      "['word of radiance', 'well of ascension', 'the final empire', 'rythm of war', 'hero of age', 'the alloy of law']\n",
      "['word of radiance', 'well of ascension', 'the final empire', 'rythm of war', 'hero of age']\n"
     ]
    }
   ],
   "source": [
    "books.append('the alloy of law')\n",
    "print(books)\n",
    "print(books2)\n",
    "print(books_backup)"
   ]
  },
  {
   "cell_type": "code",
   "execution_count": 43,
   "metadata": {},
   "outputs": [
    {
     "data": {
      "text/plain": [
       "True"
      ]
     },
     "execution_count": 43,
     "metadata": {},
     "output_type": "execute_result"
    }
   ],
   "source": [
    "#check same location or not \n",
    "books is books"
   ]
  },
  {
   "cell_type": "code",
   "execution_count": 44,
   "metadata": {},
   "outputs": [
    {
     "data": {
      "text/plain": [
       "False"
      ]
     },
     "execution_count": 44,
     "metadata": {},
     "output_type": "execute_result"
    }
   ],
   "source": [
    "books is books_backup"
   ]
  },
  {
   "cell_type": "code",
   "execution_count": null,
   "metadata": {},
   "outputs": [],
   "source": []
  }
 ],
 "metadata": {
  "kernelspec": {
   "display_name": "base",
   "language": "python",
   "name": "python3"
  },
  "language_info": {
   "codemirror_mode": {
    "name": "ipython",
    "version": 3
   },
   "file_extension": ".py",
   "mimetype": "text/x-python",
   "name": "python",
   "nbconvert_exporter": "python",
   "pygments_lexer": "ipython3",
   "version": "3.10.10"
  },
  "orig_nbformat": 4
 },
 "nbformat": 4,
 "nbformat_minor": 2
}
